{
 "cells": [
  {
   "cell_type": "code",
   "execution_count": 2,
   "metadata": {},
   "outputs": [],
   "source": [
    "import numpy as np\n",
    "class SoftMax():\n",
    "\n",
    "    def forward(self, x):\n",
    "        self.x = x\n",
    "        sigma = 1e-10\n",
    "        x -= np.max(x, axis=1, keepdims=True)\n",
    "        return np.exp(x)/np.sum(np.exp(x), axis=1, keepdims=True)"
   ]
  },
  {
   "cell_type": "code",
   "execution_count": 3,
   "metadata": {},
   "outputs": [],
   "source": [
    "a = np.array([[1,2,3],\n",
    "              [3,2,1],\n",
    "              [4,2,3]])\n",
    "sm = SoftMax().forward(a)"
   ]
  },
  {
   "cell_type": "code",
   "execution_count": 4,
   "metadata": {},
   "outputs": [
    {
     "data": {
      "text/plain": [
       "array([[0.09003057, 0.24472847, 0.66524096],\n",
       "       [0.66524096, 0.24472847, 0.09003057],\n",
       "       [0.66524096, 0.09003057, 0.24472847]])"
      ]
     },
     "execution_count": 4,
     "metadata": {},
     "output_type": "execute_result"
    }
   ],
   "source": [
    "sm"
   ]
  },
  {
   "cell_type": "code",
   "execution_count": 15,
   "metadata": {},
   "outputs": [
    {
     "name": "stdout",
     "output_type": "stream",
     "text": [
      "[[0.76128019 0.96784519 0.12316184]]\n",
      "[[0.44987142 0.57549591 0.11344986]]\n",
      "[[0.76128019 0.96784519 0.12316184]\n",
      " [0.44987142 0.57549591 0.11344986]]\n",
      "[[0.76128019 0.96784519 0.12316184]\n",
      " [0.44987142 0.57549591 0.11344986]\n",
      " [0.44987142 0.57549591 0.11344986]]\n"
     ]
    }
   ],
   "source": [
    "a = np.random.rand(1, 3)\n",
    "print(a)\n",
    "b = np.random.rand(1, 3)\n",
    "print(b)\n",
    "c = np.concatenate((a, b), axis = 0)\n",
    "print(c)\n",
    "d = np.concatenate((c, b), axis = 0)\n",
    "print(d)"
   ]
  },
  {
   "cell_type": "code",
   "execution_count": 26,
   "metadata": {},
   "outputs": [
    {
     "name": "stdout",
     "output_type": "stream",
     "text": [
      "[[0.44987142 0.57549591 0.11344986]\n",
      " [0.44987142 0.57549591 0.11344986]\n",
      " [0.76128019 0.96784519 0.12316184]]\n",
      "[0.57549591 0.57549591 0.96784519]\n"
     ]
    },
    {
     "data": {
      "text/plain": [
       "2.118837000924771"
      ]
     },
     "execution_count": 26,
     "metadata": {},
     "output_type": "execute_result"
    }
   ],
   "source": [
    "e = np.sort(d, axis=0)\n",
    "print(e)\n",
    "print(e[:, 1])\n",
    "np.sum(e[:, 1])\n",
    "\n",
    "\n",
    "\n"
   ]
  },
  {
   "cell_type": "code",
   "execution_count": null,
   "metadata": {},
   "outputs": [],
   "source": []
  }
 ],
 "metadata": {
  "interpreter": {
   "hash": "03e30155a8bc2aebd4337705006146e77759413953328d6ea8a447f30ad5fd64"
  },
  "kernelspec": {
   "display_name": "Python 3.7.6 64-bit ('base': conda)",
   "name": "python3"
  },
  "language_info": {
   "codemirror_mode": {
    "name": "ipython",
    "version": 3
   },
   "file_extension": ".py",
   "mimetype": "text/x-python",
   "name": "python",
   "nbconvert_exporter": "python",
   "pygments_lexer": "ipython3",
   "version": "3.7.6"
  },
  "orig_nbformat": 4
 },
 "nbformat": 4,
 "nbformat_minor": 2
}
